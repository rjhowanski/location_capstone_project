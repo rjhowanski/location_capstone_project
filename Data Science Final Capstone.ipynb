{
 "cells": [
  {
   "cell_type": "code",
   "execution_count": null,
   "metadata": {},
   "outputs": [],
   "source": [
    "IBM Data Science Certification - Capstone Project\n",
    "\n",
    "Introduction: Yoga Habit is a new yoga studio in Philadelphia in an up and coming neighborhood. It opened 3 years ago and its business as done well. \n",
    "The owner is considering opening a new fitness studio. She would like to open a studio where there is currently not\n",
    "as many gyms, but still has a similar landscape in regards industries, such as restaurants,\n",
    "bars, parks, and coffee ships."
   ]
  },
  {
   "cell_type": "code",
   "execution_count": null,
   "metadata": {},
   "outputs": [],
   "source": [
    "Strategy: Foursquare places database will be accessed to characterize the neighborhood the yoga stuido is currently located.\n",
    "The venue landscape of the current yoga studio location will be evaluated and compared to other neighborhoods by clustering.\n",
    "Similar neighborhoods will be identified with similar venue trends with an evaluation of the number of gyms. The ideal \n",
    "location for a new studio will be a neighborhood with a similar venue landscape, but the lowest relative gym venues.\n"
   ]
  }
 ],
 "metadata": {
  "kernelspec": {
   "display_name": "Python 3",
   "language": "python",
   "name": "python3"
  },
  "language_info": {
   "codemirror_mode": {
    "name": "ipython",
    "version": 3
   },
   "file_extension": ".py",
   "mimetype": "text/x-python",
   "name": "python",
   "nbconvert_exporter": "python",
   "pygments_lexer": "ipython3",
   "version": "3.7.6"
  }
 },
 "nbformat": 4,
 "nbformat_minor": 4
}
