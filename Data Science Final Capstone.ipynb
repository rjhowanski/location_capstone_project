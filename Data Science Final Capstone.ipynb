{
 "cells": [
  {
   "cell_type": "code",
   "execution_count": null,
   "metadata": {},
   "outputs": [],
   "source": [
    "IBM Data Science Certification - Capstone Project\n",
    "\n",
    "Introduction: Yoga Habit is a new yoga studio in Philadelphia in an up and coming neighborhood. It opened 3 years ago and its business as done well. \n",
    "The owner is considering opening a new fitness studio. She would like to open a studio where there is currently not\n",
    "as many gyms, but still has a similar landscape in regards industries, such as restaurants,\n",
    "bars, parks, and coffee ships."
   ]
  },
  {
   "cell_type": "code",
   "execution_count": null,
   "metadata": {},
   "outputs": [],
   "source": [
    "Data to be used: Foursquare places data will be accessed to characterize the Fairmount neighborhood in Philadelphia the yoga stuido is currently located.",
    "The venue landscape of the current yoga studio location will be evaluated and compared to other neighborhoods by clustering the Philadelphia neighborhoods based on the venues.",
    "Similar neighborhoods will be identified by cluster and the number of number of gyms in each of the neighborhoods will be evaluated. The ideal ",
    "location for a new studio will be a neighborhood with a similar venue landscape, but the lowest number of gym venues.\n"
   ]
  }
 ],
 "metadata": {
  "kernelspec": {
   "display_name": "Python 3",
   "language": "python",
   "name": "python3"
  },
  "language_info": {
   "codemirror_mode": {
    "name": "ipython",
    "version": 3
   },
   "file_extension": ".py",
   "mimetype": "text/x-python",
   "name": "python",
   "nbconvert_exporter": "python",
   "pygments_lexer": "ipython3",
   "version": "3.7.6"
  }
 },
 "nbformat": 4,
 "nbformat_minor": 4
}
